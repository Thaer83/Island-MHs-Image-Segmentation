{
 "cells": [
  {
   "cell_type": "code",
   "execution_count": 1,
   "id": "101331ea-c921-40ad-8bb8-d94022ca3e08",
   "metadata": {},
   "outputs": [
    {
     "name": "stdout",
     "output_type": "stream",
     "text": [
      "Defaulting to user installation because normal site-packages is not writeable\n",
      "\u001b[31mERROR: Could not find a version that satisfies the requirement image-similarity-measures (from versions: none)\u001b[0m\n",
      "\u001b[31mERROR: No matching distribution found for image-similarity-measures\u001b[0m\n",
      "\u001b[33mWARNING: You are using pip version 21.2.4; however, version 22.1.2 is available.\n",
      "You should consider upgrading via the '/usr/local/bin/python3.10 -m pip install --upgrade pip' command.\u001b[0m\n",
      "Note: you may need to restart the kernel to use updated packages.\n"
     ]
    }
   ],
   "source": [
    "pip install image-similarity-measures"
   ]
  },
  {
   "cell_type": "code",
   "execution_count": 2,
   "id": "dec445b0-2318-4500-949c-49a222bbe5f4",
   "metadata": {},
   "outputs": [],
   "source": [
    "#from skimage.measure import compare_ssim\n",
    "from skimage import measure"
   ]
  },
  {
   "cell_type": "code",
   "execution_count": 6,
   "id": "7bbeecb4-0365-48a8-9be9-9ec33be29a52",
   "metadata": {},
   "outputs": [
    {
     "name": "stdout",
     "output_type": "stream",
     "text": [
      "Defaulting to user installation because normal site-packages is not writeable\n",
      "Requirement already satisfied: scikit-image in /home/thaer/.local/lib/python3.10/site-packages (0.19.3)\n",
      "Collecting opencv-python\n",
      "  Downloading opencv_python-4.6.0.66-cp36-abi3-manylinux_2_17_x86_64.manylinux2014_x86_64.whl (60.9 MB)\n",
      "\u001b[K     |████████████████████████████████| 60.9 MB 16.4 MB/s eta 0:00:01\n",
      "\u001b[?25hCollecting imutils\n",
      "  Downloading imutils-0.5.4.tar.gz (17 kB)\n",
      "Requirement already satisfied: tifffile>=2019.7.26 in /home/thaer/.local/lib/python3.10/site-packages (from scikit-image) (2022.5.4)\n",
      "Requirement already satisfied: imageio>=2.4.1 in /home/thaer/.local/lib/python3.10/site-packages (from scikit-image) (2.19.3)\n",
      "Requirement already satisfied: packaging>=20.0 in /home/thaer/.local/lib/python3.10/site-packages (from scikit-image) (21.3)\n",
      "Requirement already satisfied: scipy>=1.4.1 in /home/thaer/.local/lib/python3.10/site-packages (from scikit-image) (1.8.0)\n",
      "Requirement already satisfied: pillow!=7.1.0,!=7.1.1,!=8.3.0,>=6.1.0 in /home/thaer/.local/lib/python3.10/site-packages (from scikit-image) (9.0.1)\n",
      "Requirement already satisfied: numpy>=1.17.0 in /home/thaer/.local/lib/python3.10/site-packages (from scikit-image) (1.22.3)\n",
      "Requirement already satisfied: PyWavelets>=1.1.1 in /home/thaer/.local/lib/python3.10/site-packages (from scikit-image) (1.3.0)\n",
      "Requirement already satisfied: networkx>=2.2 in /home/thaer/.local/lib/python3.10/site-packages (from scikit-image) (2.7.1)\n",
      "Requirement already satisfied: pyparsing!=3.0.5,>=2.0.2 in /home/thaer/.local/lib/python3.10/site-packages (from packaging>=20.0->scikit-image) (3.0.7)\n",
      "Using legacy 'setup.py install' for imutils, since package 'wheel' is not installed.\n",
      "Installing collected packages: opencv-python, imutils\n",
      "    Running setup.py install for imutils ... \u001b[?25ldone\n",
      "\u001b[?25hSuccessfully installed imutils-0.5.4 opencv-python-4.6.0.66\n",
      "\u001b[33mWARNING: You are using pip version 21.2.4; however, version 22.1.2 is available.\n",
      "You should consider upgrading via the '/usr/local/bin/python3.10 -m pip install --upgrade pip' command.\u001b[0m\n",
      "Note: you may need to restart the kernel to use updated packages.\n"
     ]
    }
   ],
   "source": [
    "pip install scikit-image opencv-python imutils"
   ]
  },
  {
   "cell_type": "code",
   "execution_count": null,
   "id": "751694f7-2103-4cf2-895d-d4e82a979f1b",
   "metadata": {},
   "outputs": [],
   "source": []
  }
 ],
 "metadata": {
  "kernelspec": {
   "display_name": "Python 3 (ipykernel)",
   "language": "python",
   "name": "python3"
  },
  "language_info": {
   "codemirror_mode": {
    "name": "ipython",
    "version": 3
   },
   "file_extension": ".py",
   "mimetype": "text/x-python",
   "name": "python",
   "nbconvert_exporter": "python",
   "pygments_lexer": "ipython3",
   "version": "3.10.1"
  }
 },
 "nbformat": 4,
 "nbformat_minor": 5
}
