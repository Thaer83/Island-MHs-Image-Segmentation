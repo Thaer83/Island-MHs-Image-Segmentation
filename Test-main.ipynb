{
 "cells": [
  {
   "cell_type": "code",
   "execution_count": 1,
   "id": "e484b349-979b-4b42-bf44-dea34bd988cc",
   "metadata": {
    "tags": []
   },
   "outputs": [
    {
     "ename": "ModuleNotFoundError",
     "evalue": "No module named 'My_Problems.F1'",
     "output_type": "error",
     "traceback": [
      "\u001b[0;31m---------------------------------------------------------------------------\u001b[0m",
      "\u001b[0;31mModuleNotFoundError\u001b[0m                       Traceback (most recent call last)",
      "Input \u001b[0;32mIn [1]\u001b[0m, in \u001b[0;36m<cell line: 13>\u001b[0;34m()\u001b[0m\n\u001b[1;32m     10\u001b[0m \u001b[38;5;28;01mimport\u001b[39;00m \u001b[38;5;21;01mMy_Algorithms\u001b[39;00m\u001b[38;5;21;01m.\u001b[39;00m\u001b[38;5;21;01mPSO_UDA\u001b[39;00m \u001b[38;5;28;01mas\u001b[39;00m \u001b[38;5;21;01mmy_PSO\u001b[39;00m\n\u001b[1;32m     11\u001b[0m \u001b[38;5;28;01mimport\u001b[39;00m \u001b[38;5;21;01mMy_Algorithms\u001b[39;00m\u001b[38;5;21;01m.\u001b[39;00m\u001b[38;5;21;01mCSA_UDA\u001b[39;00m \u001b[38;5;28;01mas\u001b[39;00m \u001b[38;5;21;01mmy_CSA\u001b[39;00m\n\u001b[0;32m---> 13\u001b[0m \u001b[38;5;28;01mimport\u001b[39;00m \u001b[38;5;21;01mMy_Problems\u001b[39;00m\u001b[38;5;21;01m.\u001b[39;00m\u001b[38;5;21;01mF1\u001b[39;00m \u001b[38;5;28;01mas\u001b[39;00m \u001b[38;5;21;01mf1\u001b[39;00m\n\u001b[1;32m     15\u001b[0m \u001b[38;5;66;03m#from pygmo import *\u001b[39;00m\n\u001b[1;32m     16\u001b[0m \u001b[38;5;28;01mimport\u001b[39;00m \u001b[38;5;21;01mpygmo\u001b[39;00m \u001b[38;5;28;01mas\u001b[39;00m \u001b[38;5;21;01mpg\u001b[39;00m\n",
      "\u001b[0;31mModuleNotFoundError\u001b[0m: No module named 'My_Problems.F1'"
     ]
    }
   ],
   "source": [
    "#====================\n",
    "import random\n",
    "import numpy\n",
    "import math\n",
    "import time\n",
    "\n",
    "#====================\n",
    "\n",
    "#from My_Algorithms import PSO_UDA\n",
    "import My_Algorithms.PSO_UDA as my_PSO\n",
    "import My_Algorithms.CSA_UDA as my_CSA\n",
    "\n",
    "import My_Problems.F1 as f1\n",
    "\n",
    "#from pygmo import *\n",
    "import pygmo as pg\n",
    "\n",
    "#prob = pg.problem(pg.schwefel(dim = 4))\n",
    "prob = f1.F1(dim=30)\n",
    "#print (prob)\n",
    "\n",
    "# The initial population\n",
    "#pop = pg.population(prob, size = 4, seed =1)\n",
    "pop = pg.population(prob, size = 30)\n",
    "#print(\"Initial population-------------------------------------------\" , pop)\n",
    "\n",
    "\n",
    "algo = pg.algorithm(my_CSA.my_CSA(gen = 500))\n",
    "\n",
    "print(algo.has_set_seed())\n",
    "#algo.set_seed(1)\n",
    "\n",
    "#print(algo)\n",
    "# The actual optimization process\n",
    "evolved_pop = algo.evolve(pop)\n",
    "#print(evolved_pop)\n",
    "print(\"hhhhhhhhhhhhhhhhhhh\", evolved_pop.problem.get_fevals())\n",
    "extra_info = algo.get_extra_info()\n",
    "print (type(extra_info))\n",
    "print(\"Extra info ......................\" , extra_info)\n",
    "li = list(extra_info.split(\"$\"))\n",
    "print(type(li))\n",
    "print(\"Extra info ......................\" , li)\n",
    "# Getting the best individual in the population\n",
    "best_fitness = evolved_pop.get_f()\n",
    "best_individual_vector = evolved_pop.get_x()[evolved_pop.best_idx()]\n",
    "best_individual_fitness = evolved_pop.get_f()[evolved_pop.best_idx()]\n",
    "print(\"Best individual in the population\", best_individual_vector) \n",
    "print(\"Best fitness in the population\", best_individual_fitness) \n",
    "print(\"final fitness vector\", best_fitness) \n",
    "\n",
    "\n",
    "# Getting the Champion decision vector\n",
    "champion_individual = evolved_pop.champion_x\n",
    "champion_individual_fitness = best_fitness2 = evolved_pop.champion_f   #better\n",
    "\n",
    "print(\"Champion vector\" , champion_individual)\n",
    "print(\"Champion fitness\" , champion_individual_fitness)"
   ]
  },
  {
   "cell_type": "code",
   "execution_count": null,
   "id": "9308b401-dc51-4dc5-9d73-abff3006d998",
   "metadata": {},
   "outputs": [],
   "source": []
  }
 ],
 "metadata": {
  "kernelspec": {
   "display_name": "Python 3 (ipykernel)",
   "language": "python",
   "name": "python3"
  },
  "language_info": {
   "codemirror_mode": {
    "name": "ipython",
    "version": 3
   },
   "file_extension": ".py",
   "mimetype": "text/x-python",
   "name": "python",
   "nbconvert_exporter": "python",
   "pygments_lexer": "ipython3",
   "version": "3.10.1"
  }
 },
 "nbformat": 4,
 "nbformat_minor": 5
}
