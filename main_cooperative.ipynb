{
 "cells": [
  {
   "cell_type": "code",
   "execution_count": 1,
   "id": "23973df9-93dc-4ca4-8d04-06a8a3be800b",
   "metadata": {},
   "outputs": [],
   "source": [
    "# -*- coding: utf-8 -*-\n",
    "\"\"\"\n",
    "Customized on Sun June 1 15:50:25 2022\n",
    "\n",
    "@author: Thaer\n",
    "\"\"\"\n",
    "\n",
    "# ============ Select optimizers =================\n",
    "# PSO_UDA, GWO_UDA, HHO_UDA, CSA_UDA\n",
    "#optimizer=[\"ACSA_UDA\"]\n",
    "#optimizer=[\"CSA_UDA\"]\n",
    "#optimizer=[\"TCSA_UDA\"]\n",
    "#optimizer=[\"CSA_UDA\",\"MRCSA_UDA\",\"TCSA_UDA\", \"ECSA_UDA\"]\n",
    "#optimizer=[\"CSA_UDA\",\"MRCSA_UDA\",\"TCSA_UDA\",\"ECSA_UDA\"]\n",
    "optimizer = [\"PSO\", \"GWO\", \"HHO\"]\n",
    "#=================================================\n",
    "\n",
    "# ============ Select tested benchmark function\" =================\n",
    "# \"F1\",\"F2\",\"F3\",\"F4\",\"F5\",\"F6\",\"F7\",\"F8\",\"F9\",\"F10\",\"F11\",\"F12\",\"F13\",\"F14\",\"F15\",\"F16\",\"F17\",\"F18\",\"F19\"\n",
    "#objectivefunc=[\"F1\",\"F2\",\"F3\", \"F4\"] \n",
    "'''objectivefunc = []\n",
    "Functions_No = 23\n",
    "for i in range (0,Functions_No):\n",
    "    func = \"F\"+str(i+1)\n",
    "    objectivefunc.append(func)\n",
    "objectivefunc = []\n",
    "Functions_No = 30\n",
    "for i in range (0,Functions_No):\n",
    "    func = \"F\"+str(i+1)+\"CEC2014\"\n",
    "    objectivefunc.append(func)'''\n",
    "objectivefunc = [\"test1.jpg\",\"test2.jpg\",\"test3.jpg\",\"test4.jpg\",\"test5.jpg\",\"test6.jpg\",\"test7.jpg\",\"test8.jpg\",\"test9.jpg\",\"test10.jpg\"]\n",
    "#=================================================\n",
    "\n",
    "\n",
    "\n",
    "# ============ Select number of repetitions for each experiment=================\n",
    "# To obtain meaningful statistical results, usually 30 independent runs are executed for each algorithm.\n",
    "NumOfRuns = 5\n",
    "\n",
    "# NUmber of thresolds\n",
    "Level = 25\n",
    "\n",
    "\n",
    "\n",
    "# Select general parameters for all optimizers (population size, number of iterations) ....\n",
    "common_params = {\"PopulationSize\": 30, \"Iterations\": 100}\n",
    "\n",
    "# Select migration parameters\n",
    "mig_params = {\"mig_freq\": 5, \"mig_rate\": 0.3, \"island_no\": 4}\n",
    "\n",
    "# Choose whether to Export the results in different formats\n",
    "export_flags = {\n",
    "    \"Export_avg\": True,\n",
    "    \"Export_details\": True,\n",
    "    \"Export_diversity\": False,\n",
    "    \"Export_convergence\": False,\n",
    "    \"Export_boxplot\": False,\n",
    "}\n"
   ]
  },
  {
   "cell_type": "markdown",
   "id": "99dbf4e8",
   "metadata": {},
   "source": [
    "<h2>Run cooperative Framework</h2>"
   ]
  },
  {
   "cell_type": "code",
   "execution_count": 2,
   "id": "7f6a4282",
   "metadata": {},
   "outputs": [
    {
     "name": "stderr",
     "output_type": "stream",
     "text": [
      "/home/thaer/iPMHs-segmentation/My_Problems/MLTHIMS_CE.py:100: RuntimeWarning: invalid value encountered in double_scalars\n",
      "  nu[i] = self.mEin(round(ti_1),round(ti),h)*(math.log(self.mEin(round(ti_1),round(ti),h) / self.mZero(round(ti_1),round(ti),h))) #cross entropy\n",
      "/home/thaer/iPMHs-segmentation/My_Problems/MLTHIMS_CE.py:100: RuntimeWarning: invalid value encountered in double_scalars\n",
      "  nu[i] = self.mEin(round(ti_1),round(ti),h)*(math.log(self.mEin(round(ti_1),round(ti),h) / self.mZero(round(ti_1),round(ti),h))) #cross entropy\n",
      "/home/thaer/iPMHs-segmentation/My_Problems/MLTHIMS_CE.py:100: RuntimeWarning: invalid value encountered in double_scalars\n",
      "  nu[i] = self.mEin(round(ti_1),round(ti),h)*(math.log(self.mEin(round(ti_1),round(ti),h) / self.mZero(round(ti_1),round(ti),h))) #cross entropy\n",
      "/home/thaer/iPMHs-segmentation/My_Problems/MLTHIMS_CE.py:100: RuntimeWarning: invalid value encountered in double_scalars\n",
      "  nu[i] = self.mEin(round(ti_1),round(ti),h)*(math.log(self.mEin(round(ti_1),round(ti),h) / self.mZero(round(ti_1),round(ti),h))) #cross entropy\n",
      "/home/thaer/iPMHs-segmentation/My_Problems/MLTHIMS_CE.py:100: RuntimeWarning: invalid value encountered in double_scalars\n",
      "  nu[i] = self.mEin(round(ti_1),round(ti),h)*(math.log(self.mEin(round(ti_1),round(ti),h) / self.mZero(round(ti_1),round(ti),h))) #cross entropy\n",
      "/home/thaer/iPMHs-segmentation/My_Problems/MLTHIMS_CE.py:100: RuntimeWarning: invalid value encountered in double_scalars\n",
      "  nu[i] = self.mEin(round(ti_1),round(ti),h)*(math.log(self.mEin(round(ti_1),round(ti),h) / self.mZero(round(ti_1),round(ti),h))) #cross entropy\n",
      "/home/thaer/iPMHs-segmentation/My_Problems/MLTHIMS_CE.py:100: RuntimeWarning: invalid value encountered in double_scalars\n",
      "  nu[i] = self.mEin(round(ti_1),round(ti),h)*(math.log(self.mEin(round(ti_1),round(ti),h) / self.mZero(round(ti_1),round(ti),h))) #cross entropy\n",
      "/home/thaer/iPMHs-segmentation/My_Problems/MLTHIMS_CE.py:100: RuntimeWarning: invalid value encountered in double_scalars\n",
      "  nu[i] = self.mEin(round(ti_1),round(ti),h)*(math.log(self.mEin(round(ti_1),round(ti),h) / self.mZero(round(ti_1),round(ti),h))) #cross entropy\n"
     ]
    },
    {
     "name": "stdout",
     "output_type": "stream",
     "text": [
      "iPSO , test1.jpg  Run  0 CE completed\n",
      "iPSO , test1.jpg  Run  1 CE completed\n",
      "iPSO , test1.jpg  Run  2 CE completed\n",
      "iPSO , test1.jpg  Run  3 CE completed\n",
      "iPSO , test1.jpg  Run  4 CE completed\n",
      "iPSO , test2.jpg  Run  0 CE completed\n",
      "iPSO , test2.jpg  Run  1 CE completed\n",
      "iPSO , test2.jpg  Run  2 CE completed\n",
      "iPSO , test2.jpg  Run  3 CE completed\n",
      "iPSO , test2.jpg  Run  4 CE completed\n",
      "iPSO , test3.jpg  Run  0 CE completed\n",
      "iPSO , test3.jpg  Run  1 CE completed\n",
      "iPSO , test3.jpg  Run  2 CE completed\n",
      "iPSO , test3.jpg  Run  3 CE completed\n",
      "iPSO , test3.jpg  Run  4 CE completed\n",
      "iPSO , test4.jpg  Run  0 CE completed\n",
      "iPSO , test4.jpg  Run  1 CE completed\n",
      "iPSO , test4.jpg  Run  2 CE completed\n",
      "iPSO , test4.jpg  Run  3 CE completed\n",
      "iPSO , test4.jpg  Run  4 CE completed\n",
      "iPSO , test5.jpg  Run  0 CE completed\n",
      "iPSO , test5.jpg  Run  1 CE completed\n",
      "iPSO , test5.jpg  Run  2 CE completed\n",
      "iPSO , test5.jpg  Run  3 CE completed\n",
      "iPSO , test5.jpg  Run  4 CE completed\n",
      "iPSO , test6.jpg  Run  0 CE completed\n",
      "iPSO , test6.jpg  Run  1 CE completed\n",
      "iPSO , test6.jpg  Run  2 CE completed\n",
      "iPSO , test6.jpg  Run  3 CE completed\n",
      "iPSO , test6.jpg  Run  4 CE completed\n",
      "iPSO , test7.jpg  Run  0 CE completed\n",
      "iPSO , test7.jpg  Run  1 CE completed\n",
      "iPSO , test7.jpg  Run  2 CE completed\n",
      "iPSO , test7.jpg  Run  3 CE completed\n",
      "iPSO , test7.jpg  Run  4 CE completed\n",
      "iPSO , test8.jpg  Run  0 CE completed\n",
      "iPSO , test8.jpg  Run  1 CE completed\n",
      "iPSO , test8.jpg  Run  2 CE completed\n",
      "iPSO , test8.jpg  Run  3 CE completed\n",
      "iPSO , test8.jpg  Run  4 CE completed\n",
      "iPSO , test9.jpg  Run  0 CE completed\n",
      "iPSO , test9.jpg  Run  1 CE completed\n",
      "iPSO , test9.jpg  Run  2 CE completed\n",
      "iPSO , test9.jpg  Run  3 CE completed\n",
      "iPSO , test9.jpg  Run  4 CE completed\n",
      "iPSO , test10.jpg  Run  0 CE completed\n",
      "iPSO , test10.jpg  Run  1 CE completed\n",
      "iPSO , test10.jpg  Run  2 CE completed\n",
      "iPSO , test10.jpg  Run  3 CE completed\n",
      "iPSO , test10.jpg  Run  4 CE completed\n",
      "Execution completed\n"
     ]
    }
   ],
   "source": [
    "# Run Framework\n",
    "from cooperative_optimizer import run\n",
    "\n",
    "run(optimizer, objectivefunc, NumOfRuns, common_params, mig_params, export_flags, Level)"
   ]
  },
  {
   "cell_type": "code",
   "execution_count": 1,
   "id": "8de8a7f3",
   "metadata": {},
   "outputs": [
    {
     "name": "stdout",
     "output_type": "stream",
     "text": [
      "True\n",
      "[121968.11834564      0.              0.              0.\n",
      "      0.              0.              0.              0.\n",
      "      0.              0.        ]\n",
      "[121968.11834564319]\n",
      "[121968.11834564 121968.11834564      0.              0.\n",
      "      0.              0.              0.              0.\n",
      "      0.              0.        ]\n",
      "[121968.11834564319, 121968.11834564319]\n",
      "[121968.11834564 121968.11834564  77809.21410934      0.\n",
      "      0.              0.              0.              0.\n",
      "      0.              0.        ]\n",
      "[121968.11834564319, 121968.11834564319, 77809.21410934093]\n",
      "[121968.11834564 121968.11834564  77809.21410934  49633.98210296\n",
      "      0.              0.              0.              0.\n",
      "      0.              0.        ]\n",
      "[121968.11834564319, 121968.11834564319, 77809.21410934093, 49633.982102955226]\n",
      "[121968.11834564 121968.11834564  77809.21410934  49633.98210296\n",
      "  49633.98210296      0.              0.              0.\n",
      "      0.              0.        ]\n",
      "[121968.11834564319, 121968.11834564319, 77809.21410934093, 49633.982102955226, 49633.982102955226]\n",
      "[121968.11834564 121968.11834564  77809.21410934  49633.98210296\n",
      "  49633.98210296  32137.36229472      0.              0.\n",
      "      0.              0.        ]\n",
      "[121968.11834564319, 121968.11834564319, 77809.21410934093, 49633.982102955226, 49633.982102955226, 32137.36229472317]\n",
      "[121968.11834564 121968.11834564  77809.21410934  49633.98210296\n",
      "  49633.98210296  32137.36229472  32137.36229472      0.\n",
      "      0.              0.        ]\n",
      "[121968.11834564319, 121968.11834564319, 77809.21410934093, 49633.982102955226, 49633.982102955226, 32137.36229472317, 32137.36229472317]\n",
      "[121968.11834564 121968.11834564  77809.21410934  49633.98210296\n",
      "  49633.98210296  32137.36229472  32137.36229472  32137.36229472\n",
      "      0.              0.        ]\n",
      "[121968.11834564319, 121968.11834564319, 77809.21410934093, 49633.982102955226, 49633.982102955226, 32137.36229472317, 32137.36229472317, 32137.36229472317]\n",
      "[121968.11834564 121968.11834564  77809.21410934  49633.98210296\n",
      "  49633.98210296  32137.36229472  32137.36229472  32137.36229472\n",
      "  30057.38016719      0.        ]\n",
      "[121968.11834564319, 121968.11834564319, 77809.21410934093, 49633.982102955226, 49633.982102955226, 32137.36229472317, 32137.36229472317, 32137.36229472317, 30057.380167194646]\n",
      "[121968.11834564 121968.11834564  77809.21410934  49633.98210296\n",
      "  49633.98210296  32137.36229472  32137.36229472  32137.36229472\n",
      "  30057.38016719  28464.15542288]\n",
      "[121968.11834564319, 121968.11834564319, 77809.21410934093, 49633.982102955226, 49633.982102955226, 32137.36229472317, 32137.36229472317, 32137.36229472317, 30057.380167194646, 28464.155422880347]\n"
     ]
    }
   ],
   "source": [
    "from pygmo import *\n",
    "import My_Algorithms.CSA_UDA as csa\n",
    "#algo = algorithm(pso(gen = 500))\n",
    "algo = algorithm(csa.my_CSA(gen = 10))\n",
    "print(algo.has_set_verbosity())\n",
    "algo.set_verbosity(1)\n",
    "prob = problem(rosenbrock(10))\n",
    "pop = population(prob, 20)\n",
    "pop = algo.evolve(pop)\n",
    "#uda = algo.extract(pso)\n",
    "#uda.get_log() "
   ]
  },
  {
   "cell_type": "code",
   "execution_count": 15,
   "id": "96d715f7",
   "metadata": {},
   "outputs": [
    {
     "name": "stdout",
     "output_type": "stream",
     "text": [
      "\n",
      "   Gen:        Fevals:          Best:             F:            CR:       Variant:            dx:            df:\n",
      "      1             20         100122       0.977516       0.947316             16        52.9019    2.10614e+06\n",
      "    101           2020        11.6393       0.547694       0.307156              2        7.30065        152.161\n",
      "    201           4020        6.42439       0.473634       0.953658              3        2.37997        47.7088\n",
      "    301           6020        5.00639       0.482779       0.912176              3        1.55193         5.1084\n",
      "    401           8020        3.94351       0.298692        0.98862              3         2.6662        2.77349\n",
      "Exit condition -- generations = 500\n"
     ]
    },
    {
     "data": {
      "text/plain": [
       "[(1,\n",
       "  20,\n",
       "  100121.64131659202,\n",
       "  0.9775155456609065,\n",
       "  0.9473156615886239,\n",
       "  16,\n",
       "  52.901922535700834,\n",
       "  2106140.3475873964),\n",
       " (101,\n",
       "  2020,\n",
       "  11.639338344760796,\n",
       "  0.5476937109591877,\n",
       "  0.30715600977454127,\n",
       "  2,\n",
       "  7.300645305907848,\n",
       "  152.16074765733867),\n",
       " (201,\n",
       "  4020,\n",
       "  6.424391192847294,\n",
       "  0.47363390263251004,\n",
       "  0.9536582857696898,\n",
       "  3,\n",
       "  2.3799650221884825,\n",
       "  47.70876155466553),\n",
       " (301,\n",
       "  6020,\n",
       "  5.006391050316587,\n",
       "  0.48277936170521696,\n",
       "  0.912175752851351,\n",
       "  3,\n",
       "  1.5519331701619536,\n",
       "  5.1084002692079835),\n",
       " (401,\n",
       "  8020,\n",
       "  3.943512604374959,\n",
       "  0.2986922458660308,\n",
       "  0.9886196921155319,\n",
       "  3,\n",
       "  2.6661981339460996,\n",
       "  2.7734935076100804)]"
      ]
     },
     "execution_count": 15,
     "metadata": {},
     "output_type": "execute_result"
    }
   ],
   "source": [
    "from pygmo import *\n",
    "algo = algorithm(de1220(gen = 500))\n",
    "algo.set_verbosity(100)\n",
    "prob = problem(rosenbrock(10))\n",
    "pop = population(prob, 20)\n",
    "pop = algo.evolve(pop) \n",
    "uda = algo.extract(de1220)\n",
    "uda.get_log() "
   ]
  },
  {
   "cell_type": "code",
   "execution_count": 4,
   "id": "bcc47d1a",
   "metadata": {},
   "outputs": [
    {
     "data": {
      "text/plain": [
       "'0.00'"
      ]
     },
     "execution_count": 4,
     "metadata": {},
     "output_type": "execute_result"
    }
   ],
   "source": [
    "\"{:.2f}\".format(0.00000000009)"
   ]
  },
  {
   "cell_type": "code",
   "execution_count": null,
   "id": "f8291a30",
   "metadata": {},
   "outputs": [],
   "source": []
  }
 ],
 "metadata": {
  "kernelspec": {
   "display_name": "Python 3 (ipykernel)",
   "language": "python",
   "name": "python3"
  },
  "language_info": {
   "codemirror_mode": {
    "name": "ipython",
    "version": 3
   },
   "file_extension": ".py",
   "mimetype": "text/x-python",
   "name": "python",
   "nbconvert_exporter": "python",
   "pygments_lexer": "ipython3",
   "version": "3.10.1"
  },
  "vscode": {
   "interpreter": {
    "hash": "aee8b7b246df8f9039afb4144a1f6fd8d2ca17a180786b69acc140d282b71a49"
   }
  }
 },
 "nbformat": 4,
 "nbformat_minor": 5
}
