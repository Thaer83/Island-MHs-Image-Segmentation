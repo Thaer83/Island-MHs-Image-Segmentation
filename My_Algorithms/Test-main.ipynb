{
 "cells": [
  {
   "cell_type": "code",
   "execution_count": 6,
   "id": "e484b349-979b-4b42-bf44-dea34bd988cc",
   "metadata": {
    "tags": []
   },
   "outputs": [
    {
     "name": "stdout",
     "output_type": "stream",
     "text": [
      "/home/thaer/iPMHs/My_Algorithms\n",
      "True\n",
      "hhhhhhhhhhhhhhhhhhh 25\n",
      "<class 'str'>\n",
      "Extra info ...................... 25$0.002290964126586914$[3448.524760062959, 3448.524760062959, 3448.524760062959, 3448.524760062959, 3448.524760062959]\n",
      "<class 'list'>\n",
      "Extra info ...................... ['25', '0.002290964126586914', '[3448.524760062959, 3448.524760062959, 3448.524760062959, 3448.524760062959, 3448.524760062959]']\n",
      "Best individual in the population [ -77.40195649 -359.49476106 -350.73529631 -139.48248869 -251.05749387\n",
      "  134.44646572  244.83180724  400.04267616  374.78120381  204.27966633]\n",
      "Best fitness in the population [3448.52476006]\n",
      "final fitness vector [[4937.84160539]\n",
      " [4329.98361483]\n",
      " [4624.6798376 ]\n",
      " [4004.78959005]\n",
      " [3448.52476006]]\n",
      "Champion vector [ -77.40195649 -359.49476106 -350.73529631 -139.48248869 -251.05749387\n",
      "  134.44646572  244.83180724  400.04267616  374.78120381  204.27966633]\n",
      "Champion fitness [3448.52476006]\n"
     ]
    }
   ],
   "source": [
    "#====================\n",
    "import random\n",
    "import numpy\n",
    "import math\n",
    "import time\n",
    "import os\n",
    "#====================\n",
    "\n",
    "#from My_Algorithms import PSO_UDA\n",
    "import PSO_UDA\n",
    "print (os.path.abspath(os.curdir)) \n",
    "#from pygmo import *\n",
    "import pygmo as pg\n",
    "prob = pg.problem(pg.schwefel(dim = 10))\n",
    "#print (prob)\n",
    "\n",
    "# The initial population\n",
    "pop = pg.population(prob, size = 5)\n",
    "#print(\"Initial population-------------------------------------------\" , pop)\n",
    "\n",
    "\n",
    "algo = pg.algorithm(PSO_UDA.my_PSO(gen = 5))\n",
    "\n",
    "print(algo.has_set_seed())\n",
    "algo.set_seed(10)\n",
    "\n",
    "#print(algo)\n",
    "# The actual optimization process\n",
    "evolved_pop = algo.evolve(pop)\n",
    "#print(evolved_pop)\n",
    "print(\"hhhhhhhhhhhhhhhhhhh\", evolved_pop.problem.get_fevals())\n",
    "extra_info = algo.get_extra_info()\n",
    "print (type(extra_info))\n",
    "print(\"Extra info ......................\" , extra_info)\n",
    "li = list(extra_info.split(\"$\"))\n",
    "print(type(li))\n",
    "print(\"Extra info ......................\" , li)\n",
    "# Getting the best individual in the population\n",
    "best_fitness = evolved_pop.get_f()\n",
    "best_individual_vector = evolved_pop.get_x()[evolved_pop.best_idx()]\n",
    "best_individual_fitness = evolved_pop.get_f()[evolved_pop.best_idx()]\n",
    "print(\"Best individual in the population\", best_individual_vector) \n",
    "print(\"Best fitness in the population\", best_individual_fitness) \n",
    "print(\"final fitness vector\", best_fitness) \n",
    "\n",
    "\n",
    "# Getting the Champion decision vector\n",
    "champion_individual = evolved_pop.champion_x\n",
    "champion_individual_fitness = best_fitness2 = evolved_pop.champion_f   #better\n",
    "\n",
    "print(\"Champion vector\" , champion_individual)\n",
    "print(\"Champion fitness\" , champion_individual_fitness)"
   ]
  },
  {
   "cell_type": "code",
   "execution_count": null,
   "id": "9308b401-dc51-4dc5-9d73-abff3006d998",
   "metadata": {},
   "outputs": [],
   "source": []
  }
 ],
 "metadata": {
  "kernelspec": {
   "display_name": "Python 3 (ipykernel)",
   "language": "python",
   "name": "python3"
  },
  "language_info": {
   "codemirror_mode": {
    "name": "ipython",
    "version": 3
   },
   "file_extension": ".py",
   "mimetype": "text/x-python",
   "name": "python",
   "nbconvert_exporter": "python",
   "pygments_lexer": "ipython3",
   "version": "3.10.1"
  }
 },
 "nbformat": 4,
 "nbformat_minor": 5
}
