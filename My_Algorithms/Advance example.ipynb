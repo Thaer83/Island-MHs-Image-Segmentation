{
 "cells": [
  {
   "cell_type": "code",
   "execution_count": 1,
   "id": "cfc57d12-05d6-49c5-9f49-ab376d561b41",
   "metadata": {},
   "outputs": [
    {
     "name": "stdout",
     "output_type": "stream",
     "text": [
      "\n",
      "   Gen:        Fevals:          Best:             F:            CR:            dx:            df:\n",
      "      1             20        6458.73       0.738806       0.961007        7418.61        3498.05\n",
      "      2             40        6458.73       0.738806       0.961007        6479.58         3393.7\n",
      "      3             60        6458.73       0.738806       0.961007        6479.58         3393.7\n",
      "      4             80         6120.7       0.738806       0.961007        6446.26        3731.73\n",
      "      5            100         6120.7       0.738806       0.961007        6446.26        3731.73\n",
      "      6            120         6120.7       0.738806       0.961007        6446.26        3731.73\n",
      "      7            140         6120.7       0.738806       0.961007        6590.17        2810.71\n",
      "      8            160         6120.7       0.738806       0.961007        6590.17        2810.71\n",
      "      9            180        5910.44       0.711882       0.812433        4822.92        2884.69\n",
      "     10            200        5910.44       0.711882       0.812433        4822.92        2884.69\n",
      "Exit condition -- generations = 10\n",
      "\n",
      "   Gen:        Fevals:          Best:            dx:            df:\n",
      "      1             20        6808.13        5593.05        2996.51\n",
      "      2             40        6808.13        5593.05        2996.51\n",
      "      3             60        6808.13        7026.96        2053.13\n",
      "      4             80        6427.41        6385.24        2000.09\n",
      "      5            100        6427.41        6385.24        2000.09\n",
      "      6            120        6427.41        8777.43        1960.11\n",
      "      7            140        6427.41        5432.44        1776.42\n",
      "      8            160        6427.41        7211.08        1502.93\n",
      "      9            180        5923.88        5816.47        1877.13\n",
      "     10            200        5923.88        5816.47        1877.13\n",
      "Exit condition -- generations = 10\n",
      "\n",
      "   Gen:        Fevals:          Best:             F:            CR:       Variant:            dx:            df:\n",
      "      1             20        7529.21       0.676279       0.448067             15        5332.49        2348.07\n",
      "      2             40        7529.21       0.676279       0.448067             15        5332.49        2348.07\n",
      "      3             60        7529.21       0.676279       0.448067             15        5332.49        2348.07\n",
      "      4             80        7226.87        0.82891       0.974356              3        7514.69        2650.41\n",
      "      5            100        6816.36        0.92852      0.0786236             10        5338.63        3060.92\n",
      "      6            120        6490.64       0.181614       0.375059             14        5666.55        3343.89\n",
      "      7            140        6490.64       0.181614       0.375059             14        5666.55        3343.89\n",
      "      8            160        6280.29       0.181614       0.914757             14        5728.51        3011.54\n",
      "      9            180        6280.29       0.181614       0.914757             14        5058.05         2700.5\n",
      "     10            200        6248.32       0.254476       0.448067             15         6737.4        2732.47\n",
      "Exit condition -- generations = 10\n",
      "\n",
      "   Gen:        Fevals:         gbest:     Mean Vel.:    Mean lbest:    Avg. Dist.:\n",
      "      1             20        6692.19       0.304049        7833.66         1.5987\n",
      "      2             40        6079.15       0.183628        7420.06        1.73835\n",
      "      3             60        6079.15        0.10277         7341.7        1.83278\n",
      "      4             80        5751.02      0.0584544        7283.93        1.83976\n",
      "      5            100        5751.02       0.054064        7193.17        1.77282\n",
      "      6            120        5751.02      0.0777535        7012.52        1.74396\n",
      "      7            140        5751.02      0.0359955         6961.7        1.76711\n",
      "      8            160        5430.29      0.0374561        6877.41         1.7959\n",
      "      9            180        5430.29      0.0337838        6785.18        1.85018\n",
      "     10            200        5430.29      0.0275226        6744.37        1.91022\n",
      "Exit condition -- generations = 10\n"
     ]
    }
   ],
   "source": [
    "import pygmo as pg\n",
    "import numpy as np\n",
    "# The user-defined problem\n",
    "udp = pg.schwefel(dim = 20)\n",
    "# The pygmo problem\n",
    "prob = pg.problem(udp)\n",
    "\n",
    "# For a number of generation based algorithms we can use a similar script to run and average over 25 runs.\n",
    "udas = [pg.sade(gen=10), pg.de(gen=10), pg.de1220(gen=10), pg.pso(gen=10), pg.bee_colony(gen=10, limit=20)]\n",
    "for uda in udas: \n",
    "    logs = []\n",
    "    for i in range(1):\n",
    "        algo = pg.algorithm(uda)\n",
    "        algo.set_verbosity(1) # regulates both screen and log verbosity\n",
    "        pop = pg.population(prob, 20)\n",
    "        pop = algo.evolve(pop)\n",
    "        logs.append(algo.extract(type(uda)).get_log())\n",
    "    logs = np.array(logs)\n",
    "    avg_log = np.average(logs,0)\n",
    "    #plt.plot(avg_log[:,1],avg_log[:,2]-418.9829*20 , label=algo.get_name())"
   ]
  },
  {
   "cell_type": "code",
   "execution_count": null,
   "id": "7b2f3dd9-c93b-4416-a66e-3d9f3b72d9ce",
   "metadata": {},
   "outputs": [],
   "source": []
  }
 ],
 "metadata": {
  "kernelspec": {
   "display_name": "Python 3 (ipykernel)",
   "language": "python",
   "name": "python3"
  },
  "language_info": {
   "codemirror_mode": {
    "name": "ipython",
    "version": 3
   },
   "file_extension": ".py",
   "mimetype": "text/x-python",
   "name": "python",
   "nbconvert_exporter": "python",
   "pygments_lexer": "ipython3",
   "version": "3.10.1"
  }
 },
 "nbformat": 4,
 "nbformat_minor": 5
}
